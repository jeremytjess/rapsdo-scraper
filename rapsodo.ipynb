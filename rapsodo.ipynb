{
 "cells": [
  {
   "cell_type": "code",
   "execution_count": 88,
   "metadata": {},
   "outputs": [],
   "source": [
    "import pandas as pd\n",
    "import requests\n",
    "from bs4 import BeautifulSoup\n",
    "# import matplotlib.pyplot as plt\n",
    "# import numpy as np\n",
    "import os\n",
    "from time import sleep"
   ]
  },
  {
   "cell_type": "code",
   "execution_count": 89,
   "metadata": {},
   "outputs": [],
   "source": [
    "from selenium import webdriver\n",
    "from selenium.webdriver.common.keys import Keys"
   ]
  },
  {
   "cell_type": "code",
   "execution_count": 90,
   "metadata": {},
   "outputs": [],
   "source": [
    "def login():\n",
    "    \"\"\" Login to the Rapsodo Cloud\n",
    "    \"\"\"\n",
    "    url = 'https://cloud.rapsodo.com/'\n",
    "    driver = webdriver.Firefox()\n",
    "    driver.get(url)\n",
    "\n",
    "    username = driver.find_element_by_id(\"login_username\")\n",
    "    password = driver.find_element_by_id(\"login_password\")\n",
    "\n",
    "    username.send_keys(os.environ[\"RAPSODO_LOGIN\"])\n",
    "    password.send_keys(os.environ[\"RAPSODO_PASSWD\"])\n",
    "\n",
    "    driver.find_element_by_id(\"_login\").click()    \n",
    "    sleep(2)\n",
    "    \n",
    "    return driver"
   ]
  },
  {
   "cell_type": "code",
   "execution_count": 94,
   "metadata": {},
   "outputs": [],
   "source": [
    "def pitcherStats():\n",
    "    \"\"\" scrape pitcher's stats\n",
    "            * current: naviagates to Super's stats\n",
    "    \"\"\"\n",
    "    driver = login()\n",
    "    \n",
    "    table = driver.find_element_by_id('playerTable')\n",
    "    sleep(1)\n",
    "    playerList = table.find_element_by_tag_name('tbody')\n",
    "    sleep(1)\n",
    "    players = playerList.find_elements_by_tag_name('tr')\n",
    "    sleep(1)\n",
    "    \n",
    "    elem = players[1].find_elements_by_tag_name('td')\n",
    "    link = elem[-1].find_element_by_tag_name('a').get_attribute('href')\n",
    "    \n",
    "    driver.get(link)\n",
    "    sleep(3)\n",
    "    html = driver.page_source\n",
    "    cols = scrapeStats(html)\n",
    "    \n",
    "    return cols"
   ]
  },
  {
   "cell_type": "code",
   "execution_count": 96,
   "metadata": {},
   "outputs": [],
   "source": [
    "def scrapeStats(page):\n",
    "    \"\"\" scrapes stats from page\n",
    "            * current: returns table columns\n",
    "    \"\"\"\n",
    "    soup = BeautifulSoup(page, 'html.parser')\n",
    "    \n",
    "    table = soup.find(lambda tag: tag.name=='table' and tag.has_attr('id') and tag['id']==\"shotTable\")\n",
    "    cols = [col.get_text() for col in table.findAll(lambda tag: tag.name=='th')]\n",
    "    cols[-2] = 'Pitch Type'\n",
    "    cols = cols[0:-1]\n",
    "\n",
    "    return cols"
   ]
  },
  {
   "cell_type": "code",
   "execution_count": 97,
   "metadata": {},
   "outputs": [
    {
     "data": {
      "text/plain": [
       "[u'No',\n",
       " u'Date',\n",
       " u'Speed(MPH)',\n",
       " u'Spin(RPM)',\n",
       " u'True Spin(RPM)',\n",
       " u'Spin Eff.(%)',\n",
       " u'Spin Axis(hh:mm)',\n",
       " u'SpinConf.',\n",
       " u'VB',\n",
       " u'HB',\n",
       " u'StrikeX(in)',\n",
       " u'StrikeY(in)',\n",
       " u'Mode',\n",
       " u'Strike',\n",
       " 'Pitch Type']"
      ]
     },
     "execution_count": 97,
     "metadata": {},
     "output_type": "execute_result"
    }
   ],
   "source": [
    "pitcherStats()"
   ]
  },
  {
   "cell_type": "code",
   "execution_count": null,
   "metadata": {},
   "outputs": [],
   "source": []
  },
  {
   "cell_type": "code",
   "execution_count": null,
   "metadata": {},
   "outputs": [],
   "source": []
  },
  {
   "cell_type": "code",
   "execution_count": null,
   "metadata": {},
   "outputs": [],
   "source": []
  },
  {
   "cell_type": "code",
   "execution_count": null,
   "metadata": {},
   "outputs": [],
   "source": []
  },
  {
   "cell_type": "code",
   "execution_count": null,
   "metadata": {},
   "outputs": [],
   "source": []
  },
  {
   "cell_type": "code",
   "execution_count": null,
   "metadata": {},
   "outputs": [],
   "source": []
  },
  {
   "cell_type": "code",
   "execution_count": null,
   "metadata": {},
   "outputs": [],
   "source": []
  },
  {
   "cell_type": "code",
   "execution_count": null,
   "metadata": {},
   "outputs": [],
   "source": []
  },
  {
   "cell_type": "code",
   "execution_count": null,
   "metadata": {},
   "outputs": [],
   "source": []
  },
  {
   "cell_type": "code",
   "execution_count": null,
   "metadata": {},
   "outputs": [],
   "source": []
  },
  {
   "cell_type": "code",
   "execution_count": null,
   "metadata": {},
   "outputs": [],
   "source": []
  },
  {
   "cell_type": "code",
   "execution_count": null,
   "metadata": {},
   "outputs": [],
   "source": []
  },
  {
   "cell_type": "code",
   "execution_count": null,
   "metadata": {},
   "outputs": [],
   "source": []
  },
  {
   "cell_type": "code",
   "execution_count": null,
   "metadata": {},
   "outputs": [],
   "source": []
  }
 ],
 "metadata": {
  "kernelspec": {
   "display_name": "Python 3",
   "language": "python",
   "name": "python3"
  },
  "language_info": {
   "codemirror_mode": {
    "name": "ipython",
    "version": 2
   },
   "file_extension": ".py",
   "mimetype": "text/x-python",
   "name": "python",
   "nbconvert_exporter": "python",
   "pygments_lexer": "ipython2",
   "version": "2.7.16"
  }
 },
 "nbformat": 4,
 "nbformat_minor": 2
}
